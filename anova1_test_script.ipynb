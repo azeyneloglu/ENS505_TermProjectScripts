{
 "cells": [
  {
   "cell_type": "code",
   "execution_count": 1,
   "metadata": {},
   "outputs": [],
   "source": [
    "from anova1_functions import *"
   ]
  },
  {
   "cell_type": "code",
   "execution_count": 2,
   "metadata": {},
   "outputs": [],
   "source": [
    "df = pd.read_csv('crop_data.csv')"
   ]
  },
  {
   "cell_type": "code",
   "execution_count": 3,
   "metadata": {},
   "outputs": [
    {
     "data": {
      "text/html": [
       "<div>\n",
       "<style scoped>\n",
       "    .dataframe tbody tr th:only-of-type {\n",
       "        vertical-align: middle;\n",
       "    }\n",
       "\n",
       "    .dataframe tbody tr th {\n",
       "        vertical-align: top;\n",
       "    }\n",
       "\n",
       "    .dataframe thead th {\n",
       "        text-align: right;\n",
       "    }\n",
       "</style>\n",
       "<table border=\"1\" class=\"dataframe\">\n",
       "  <thead>\n",
       "    <tr style=\"text-align: right;\">\n",
       "      <th></th>\n",
       "      <th>density</th>\n",
       "      <th>block</th>\n",
       "      <th>fertilizer</th>\n",
       "      <th>yield</th>\n",
       "    </tr>\n",
       "  </thead>\n",
       "  <tbody>\n",
       "    <tr>\n",
       "      <th>0</th>\n",
       "      <td>1</td>\n",
       "      <td>1</td>\n",
       "      <td>1</td>\n",
       "      <td>177.228692</td>\n",
       "    </tr>\n",
       "    <tr>\n",
       "      <th>1</th>\n",
       "      <td>2</td>\n",
       "      <td>2</td>\n",
       "      <td>1</td>\n",
       "      <td>177.550041</td>\n",
       "    </tr>\n",
       "    <tr>\n",
       "      <th>2</th>\n",
       "      <td>1</td>\n",
       "      <td>3</td>\n",
       "      <td>1</td>\n",
       "      <td>176.408462</td>\n",
       "    </tr>\n",
       "    <tr>\n",
       "      <th>3</th>\n",
       "      <td>2</td>\n",
       "      <td>4</td>\n",
       "      <td>1</td>\n",
       "      <td>177.703625</td>\n",
       "    </tr>\n",
       "    <tr>\n",
       "      <th>4</th>\n",
       "      <td>1</td>\n",
       "      <td>1</td>\n",
       "      <td>1</td>\n",
       "      <td>177.125486</td>\n",
       "    </tr>\n",
       "    <tr>\n",
       "      <th>...</th>\n",
       "      <td>...</td>\n",
       "      <td>...</td>\n",
       "      <td>...</td>\n",
       "      <td>...</td>\n",
       "    </tr>\n",
       "    <tr>\n",
       "      <th>91</th>\n",
       "      <td>2</td>\n",
       "      <td>4</td>\n",
       "      <td>3</td>\n",
       "      <td>177.405292</td>\n",
       "    </tr>\n",
       "    <tr>\n",
       "      <th>92</th>\n",
       "      <td>1</td>\n",
       "      <td>1</td>\n",
       "      <td>3</td>\n",
       "      <td>178.141644</td>\n",
       "    </tr>\n",
       "    <tr>\n",
       "      <th>93</th>\n",
       "      <td>2</td>\n",
       "      <td>2</td>\n",
       "      <td>3</td>\n",
       "      <td>177.710613</td>\n",
       "    </tr>\n",
       "    <tr>\n",
       "      <th>94</th>\n",
       "      <td>1</td>\n",
       "      <td>3</td>\n",
       "      <td>3</td>\n",
       "      <td>177.687264</td>\n",
       "    </tr>\n",
       "    <tr>\n",
       "      <th>95</th>\n",
       "      <td>2</td>\n",
       "      <td>4</td>\n",
       "      <td>3</td>\n",
       "      <td>177.118176</td>\n",
       "    </tr>\n",
       "  </tbody>\n",
       "</table>\n",
       "<p>96 rows × 4 columns</p>\n",
       "</div>"
      ],
      "text/plain": [
       "    density  block  fertilizer       yield\n",
       "0         1      1           1  177.228692\n",
       "1         2      2           1  177.550041\n",
       "2         1      3           1  176.408462\n",
       "3         2      4           1  177.703625\n",
       "4         1      1           1  177.125486\n",
       "..      ...    ...         ...         ...\n",
       "91        2      4           3  177.405292\n",
       "92        1      1           3  178.141644\n",
       "93        2      2           3  177.710613\n",
       "94        1      3           3  177.687264\n",
       "95        2      4           3  177.118176\n",
       "\n",
       "[96 rows x 4 columns]"
      ]
     },
     "execution_count": 3,
     "metadata": {},
     "output_type": "execute_result"
    }
   ],
   "source": [
    "df"
   ]
  },
  {
   "cell_type": "code",
   "execution_count": 4,
   "metadata": {},
   "outputs": [],
   "source": [
    "df = df[['fertilizer','yield']]"
   ]
  },
  {
   "cell_type": "code",
   "execution_count": 5,
   "metadata": {},
   "outputs": [],
   "source": [
    "fert1 = df[df.fertilizer == 1]['yield'].values\n",
    "fert2 = df[df.fertilizer == 2]['yield'].values\n",
    "fert3 = df[df.fertilizer == 3]['yield'].values"
   ]
  },
  {
   "cell_type": "code",
   "execution_count": 6,
   "metadata": {},
   "outputs": [
    {
     "data": {
      "text/html": [
       "<div>\n",
       "<style scoped>\n",
       "    .dataframe tbody tr th:only-of-type {\n",
       "        vertical-align: middle;\n",
       "    }\n",
       "\n",
       "    .dataframe tbody tr th {\n",
       "        vertical-align: top;\n",
       "    }\n",
       "\n",
       "    .dataframe thead th {\n",
       "        text-align: right;\n",
       "    }\n",
       "</style>\n",
       "<table border=\"1\" class=\"dataframe\">\n",
       "  <thead>\n",
       "    <tr style=\"text-align: right;\">\n",
       "      <th></th>\n",
       "      <th>first</th>\n",
       "      <th>second</th>\n",
       "      <th>third</th>\n",
       "    </tr>\n",
       "  </thead>\n",
       "  <tbody>\n",
       "    <tr>\n",
       "      <th>0</th>\n",
       "      <td>177.228692</td>\n",
       "      <td>176.479341</td>\n",
       "      <td>177.104186</td>\n",
       "    </tr>\n",
       "    <tr>\n",
       "      <th>1</th>\n",
       "      <td>177.550041</td>\n",
       "      <td>176.044342</td>\n",
       "      <td>178.079635</td>\n",
       "    </tr>\n",
       "    <tr>\n",
       "      <th>2</th>\n",
       "      <td>176.408462</td>\n",
       "      <td>177.412462</td>\n",
       "      <td>176.903422</td>\n",
       "    </tr>\n",
       "    <tr>\n",
       "      <th>3</th>\n",
       "      <td>177.703625</td>\n",
       "      <td>177.360818</td>\n",
       "      <td>177.540284</td>\n",
       "    </tr>\n",
       "    <tr>\n",
       "      <th>4</th>\n",
       "      <td>177.125486</td>\n",
       "      <td>177.385499</td>\n",
       "      <td>177.032710</td>\n",
       "    </tr>\n",
       "    <tr>\n",
       "      <th>5</th>\n",
       "      <td>176.778342</td>\n",
       "      <td>176.975808</td>\n",
       "      <td>178.286042</td>\n",
       "    </tr>\n",
       "    <tr>\n",
       "      <th>6</th>\n",
       "      <td>176.746302</td>\n",
       "      <td>177.379779</td>\n",
       "      <td>176.405410</td>\n",
       "    </tr>\n",
       "    <tr>\n",
       "      <th>7</th>\n",
       "      <td>177.061164</td>\n",
       "      <td>177.997995</td>\n",
       "      <td>176.430830</td>\n",
       "    </tr>\n",
       "    <tr>\n",
       "      <th>8</th>\n",
       "      <td>176.274949</td>\n",
       "      <td>176.434863</td>\n",
       "      <td>177.396331</td>\n",
       "    </tr>\n",
       "    <tr>\n",
       "      <th>9</th>\n",
       "      <td>177.967203</td>\n",
       "      <td>176.933265</td>\n",
       "      <td>176.925576</td>\n",
       "    </tr>\n",
       "    <tr>\n",
       "      <th>10</th>\n",
       "      <td>176.601300</td>\n",
       "      <td>175.983480</td>\n",
       "      <td>177.055046</td>\n",
       "    </tr>\n",
       "    <tr>\n",
       "      <th>11</th>\n",
       "      <td>177.030543</td>\n",
       "      <td>177.034093</td>\n",
       "      <td>177.344164</td>\n",
       "    </tr>\n",
       "    <tr>\n",
       "      <th>12</th>\n",
       "      <td>177.479507</td>\n",
       "      <td>176.436762</td>\n",
       "      <td>177.128368</td>\n",
       "    </tr>\n",
       "    <tr>\n",
       "      <th>13</th>\n",
       "      <td>176.874130</td>\n",
       "      <td>176.067745</td>\n",
       "      <td>177.168302</td>\n",
       "    </tr>\n",
       "    <tr>\n",
       "      <th>14</th>\n",
       "      <td>176.114388</td>\n",
       "      <td>177.121049</td>\n",
       "      <td>176.353941</td>\n",
       "    </tr>\n",
       "    <tr>\n",
       "      <th>15</th>\n",
       "      <td>176.008395</td>\n",
       "      <td>177.197721</td>\n",
       "      <td>179.060899</td>\n",
       "    </tr>\n",
       "    <tr>\n",
       "      <th>16</th>\n",
       "      <td>176.108313</td>\n",
       "      <td>176.603724</td>\n",
       "      <td>176.300517</td>\n",
       "    </tr>\n",
       "    <tr>\n",
       "      <th>17</th>\n",
       "      <td>178.357441</td>\n",
       "      <td>177.208171</td>\n",
       "      <td>177.593352</td>\n",
       "    </tr>\n",
       "    <tr>\n",
       "      <th>18</th>\n",
       "      <td>177.262445</td>\n",
       "      <td>177.148829</td>\n",
       "      <td>177.115245</td>\n",
       "    </tr>\n",
       "    <tr>\n",
       "      <th>19</th>\n",
       "      <td>176.918845</td>\n",
       "      <td>176.819077</td>\n",
       "      <td>177.794457</td>\n",
       "    </tr>\n",
       "    <tr>\n",
       "      <th>20</th>\n",
       "      <td>176.239016</td>\n",
       "      <td>176.999067</td>\n",
       "      <td>177.004038</td>\n",
       "    </tr>\n",
       "    <tr>\n",
       "      <th>21</th>\n",
       "      <td>176.573070</td>\n",
       "      <td>178.134605</td>\n",
       "      <td>178.036858</td>\n",
       "    </tr>\n",
       "    <tr>\n",
       "      <th>22</th>\n",
       "      <td>176.039298</td>\n",
       "      <td>176.429156</td>\n",
       "      <td>177.701366</td>\n",
       "    </tr>\n",
       "    <tr>\n",
       "      <th>23</th>\n",
       "      <td>176.817922</td>\n",
       "      <td>176.668323</td>\n",
       "      <td>177.632808</td>\n",
       "    </tr>\n",
       "    <tr>\n",
       "      <th>24</th>\n",
       "      <td>176.160587</td>\n",
       "      <td>176.895867</td>\n",
       "      <td>177.652275</td>\n",
       "    </tr>\n",
       "    <tr>\n",
       "      <th>25</th>\n",
       "      <td>177.226424</td>\n",
       "      <td>177.779493</td>\n",
       "      <td>177.100418</td>\n",
       "    </tr>\n",
       "    <tr>\n",
       "      <th>26</th>\n",
       "      <td>175.938533</td>\n",
       "      <td>176.414495</td>\n",
       "      <td>177.187967</td>\n",
       "    </tr>\n",
       "    <tr>\n",
       "      <th>27</th>\n",
       "      <td>177.164937</td>\n",
       "      <td>176.878898</td>\n",
       "      <td>177.405292</td>\n",
       "    </tr>\n",
       "    <tr>\n",
       "      <th>28</th>\n",
       "      <td>175.360840</td>\n",
       "      <td>177.580683</td>\n",
       "      <td>178.141644</td>\n",
       "    </tr>\n",
       "    <tr>\n",
       "      <th>29</th>\n",
       "      <td>177.276996</td>\n",
       "      <td>176.957269</td>\n",
       "      <td>177.710613</td>\n",
       "    </tr>\n",
       "    <tr>\n",
       "      <th>30</th>\n",
       "      <td>175.945444</td>\n",
       "      <td>175.747546</td>\n",
       "      <td>177.687264</td>\n",
       "    </tr>\n",
       "    <tr>\n",
       "      <th>31</th>\n",
       "      <td>175.882780</td>\n",
       "      <td>177.352595</td>\n",
       "      <td>177.118176</td>\n",
       "    </tr>\n",
       "  </tbody>\n",
       "</table>\n",
       "</div>"
      ],
      "text/plain": [
       "         first      second       third\n",
       "0   177.228692  176.479341  177.104186\n",
       "1   177.550041  176.044342  178.079635\n",
       "2   176.408462  177.412462  176.903422\n",
       "3   177.703625  177.360818  177.540284\n",
       "4   177.125486  177.385499  177.032710\n",
       "5   176.778342  176.975808  178.286042\n",
       "6   176.746302  177.379779  176.405410\n",
       "7   177.061164  177.997995  176.430830\n",
       "8   176.274949  176.434863  177.396331\n",
       "9   177.967203  176.933265  176.925576\n",
       "10  176.601300  175.983480  177.055046\n",
       "11  177.030543  177.034093  177.344164\n",
       "12  177.479507  176.436762  177.128368\n",
       "13  176.874130  176.067745  177.168302\n",
       "14  176.114388  177.121049  176.353941\n",
       "15  176.008395  177.197721  179.060899\n",
       "16  176.108313  176.603724  176.300517\n",
       "17  178.357441  177.208171  177.593352\n",
       "18  177.262445  177.148829  177.115245\n",
       "19  176.918845  176.819077  177.794457\n",
       "20  176.239016  176.999067  177.004038\n",
       "21  176.573070  178.134605  178.036858\n",
       "22  176.039298  176.429156  177.701366\n",
       "23  176.817922  176.668323  177.632808\n",
       "24  176.160587  176.895867  177.652275\n",
       "25  177.226424  177.779493  177.100418\n",
       "26  175.938533  176.414495  177.187967\n",
       "27  177.164937  176.878898  177.405292\n",
       "28  175.360840  177.580683  178.141644\n",
       "29  177.276996  176.957269  177.710613\n",
       "30  175.945444  175.747546  177.687264\n",
       "31  175.882780  177.352595  177.118176"
      ]
     },
     "execution_count": 6,
     "metadata": {},
     "output_type": "execute_result"
    }
   ],
   "source": [
    "data = pd.DataFrame({'first':fert1, 'second':fert2, 'third': fert3})\n",
    "data"
   ]
  },
  {
   "cell_type": "code",
   "execution_count": 7,
   "metadata": {},
   "outputs": [],
   "source": [
    "f_stat, f_score, f_table = ANOVA1_test_equality(data,0.1)"
   ]
  },
  {
   "cell_type": "code",
   "execution_count": 8,
   "metadata": {},
   "outputs": [
    {
     "data": {
      "text/html": [
       "<div>\n",
       "<style scoped>\n",
       "    .dataframe tbody tr th:only-of-type {\n",
       "        vertical-align: middle;\n",
       "    }\n",
       "\n",
       "    .dataframe tbody tr th {\n",
       "        vertical-align: top;\n",
       "    }\n",
       "\n",
       "    .dataframe thead th {\n",
       "        text-align: right;\n",
       "    }\n",
       "</style>\n",
       "<table border=\"1\" class=\"dataframe\">\n",
       "  <thead>\n",
       "    <tr style=\"text-align: right;\">\n",
       "      <th></th>\n",
       "      <th>df</th>\n",
       "      <th>SS</th>\n",
       "      <th>MS</th>\n",
       "      <th>F</th>\n",
       "      <th>p-value</th>\n",
       "    </tr>\n",
       "  </thead>\n",
       "  <tbody>\n",
       "    <tr>\n",
       "      <th>BetweenGroups</th>\n",
       "      <td>2</td>\n",
       "      <td>6.068047</td>\n",
       "      <td>3.03402</td>\n",
       "      <td>7.86275</td>\n",
       "      <td>0.00657371</td>\n",
       "    </tr>\n",
       "    <tr>\n",
       "      <th>WithinGroups</th>\n",
       "      <td>93</td>\n",
       "      <td>35.886186</td>\n",
       "      <td>0.385873</td>\n",
       "      <td>-</td>\n",
       "      <td>-</td>\n",
       "    </tr>\n",
       "    <tr>\n",
       "      <th>Total</th>\n",
       "      <td>95</td>\n",
       "      <td>41.954233</td>\n",
       "      <td>-</td>\n",
       "      <td>-</td>\n",
       "      <td>-</td>\n",
       "    </tr>\n",
       "  </tbody>\n",
       "</table>\n",
       "</div>"
      ],
      "text/plain": [
       "               df         SS        MS        F     p-value\n",
       "BetweenGroups   2   6.068047   3.03402  7.86275  0.00657371\n",
       "WithinGroups   93  35.886186  0.385873        -           -\n",
       "Total          95  41.954233         -        -           -"
      ]
     },
     "execution_count": 8,
     "metadata": {},
     "output_type": "execute_result"
    }
   ],
   "source": [
    "f_table"
   ]
  },
  {
   "cell_type": "code",
   "execution_count": 9,
   "metadata": {},
   "outputs": [
    {
     "data": {
      "text/html": [
       "<div>\n",
       "<style scoped>\n",
       "    .dataframe tbody tr th:only-of-type {\n",
       "        vertical-align: middle;\n",
       "    }\n",
       "\n",
       "    .dataframe tbody tr th {\n",
       "        vertical-align: top;\n",
       "    }\n",
       "\n",
       "    .dataframe thead th {\n",
       "        text-align: right;\n",
       "    }\n",
       "</style>\n",
       "<table border=\"1\" class=\"dataframe\">\n",
       "  <thead>\n",
       "    <tr style=\"text-align: right;\">\n",
       "      <th></th>\n",
       "      <th>Source</th>\n",
       "      <th>SS</th>\n",
       "      <th>DF</th>\n",
       "      <th>MS</th>\n",
       "      <th>F</th>\n",
       "      <th>p-unc</th>\n",
       "      <th>np2</th>\n",
       "    </tr>\n",
       "  </thead>\n",
       "  <tbody>\n",
       "    <tr>\n",
       "      <th>0</th>\n",
       "      <td>fertilizer</td>\n",
       "      <td>6.068</td>\n",
       "      <td>2</td>\n",
       "      <td>3.034</td>\n",
       "      <td>7.863</td>\n",
       "      <td>0.001</td>\n",
       "      <td>0.145</td>\n",
       "    </tr>\n",
       "    <tr>\n",
       "      <th>1</th>\n",
       "      <td>Within</td>\n",
       "      <td>35.886</td>\n",
       "      <td>93</td>\n",
       "      <td>0.386</td>\n",
       "      <td>NaN</td>\n",
       "      <td>NaN</td>\n",
       "      <td>NaN</td>\n",
       "    </tr>\n",
       "  </tbody>\n",
       "</table>\n",
       "</div>"
      ],
      "text/plain": [
       "       Source      SS  DF     MS      F  p-unc    np2\n",
       "0  fertilizer   6.068   2  3.034  7.863  0.001  0.145\n",
       "1      Within  35.886  93  0.386    NaN    NaN    NaN"
      ]
     },
     "execution_count": 9,
     "metadata": {},
     "output_type": "execute_result"
    },
    {
     "name": "stderr",
     "output_type": "stream",
     "text": [
      "/opt/anaconda3/lib/python3.7/site-packages/outdated/utils.py:18: OutdatedPackageWarning: The package pingouin is out of date. Your version is 0.3.11, the latest is 0.3.12.\n",
      "Set the environment variable OUTDATED_IGNORE=1 to disable these warnings.\n",
      "  **kwargs\n"
     ]
    }
   ],
   "source": [
    "#checking whether result is correct or not with a library\n",
    "\n",
    "import pingouin as pg\n",
    "aov = pg.anova(dv='yield', between='fertilizer', data=df,\n",
    "               detailed=True)\n",
    "aov.round(3)"
   ]
  },
  {
   "cell_type": "code",
   "execution_count": 10,
   "metadata": {},
   "outputs": [],
   "source": [
    "#Correct !\n",
    "\n",
    "# now checking if functions regarding to contrasts work"
   ]
  },
  {
   "cell_type": "code",
   "execution_count": 17,
   "metadata": {},
   "outputs": [
    {
     "data": {
      "text/plain": [
       "True"
      ]
     },
     "execution_count": 17,
     "metadata": {},
     "output_type": "execute_result"
    }
   ],
   "source": [
    "#returns True \n",
    "contrast = np.array([0,-1,1])\n",
    "ANOVA1_is_contrast(contrast)"
   ]
  },
  {
   "cell_type": "code",
   "execution_count": 18,
   "metadata": {},
   "outputs": [
    {
     "data": {
      "text/plain": [
       "False"
      ]
     },
     "execution_count": 18,
     "metadata": {},
     "output_type": "execute_result"
    }
   ],
   "source": [
    "not_contrast = np.array([0,-1,1,0,1,1]).reshape(2,3)\n",
    "ANOVA1_all_contrast(not_contrast)\n"
   ]
  },
  {
   "cell_type": "code",
   "execution_count": 19,
   "metadata": {},
   "outputs": [
    {
     "data": {
      "text/plain": [
       "array([[ 0.5,  0.5, -1. ],\n",
       "       [ 1. , -1. ,  0. ]])"
      ]
     },
     "execution_count": 19,
     "metadata": {},
     "output_type": "execute_result"
    }
   ],
   "source": [
    "contrast_and_orthogonal = np.array([0.5,0.5,-1,1,-1,0]).reshape(2,3)\n",
    "contrast_and_orthogonal"
   ]
  },
  {
   "cell_type": "code",
   "execution_count": 20,
   "metadata": {},
   "outputs": [
    {
     "data": {
      "text/plain": [
       "True"
      ]
     },
     "execution_count": 20,
     "metadata": {},
     "output_type": "execute_result"
    }
   ],
   "source": [
    "ANOVA1_all_contrast(contrast_and_orthogonal)"
   ]
  },
  {
   "cell_type": "code",
   "execution_count": 21,
   "metadata": {},
   "outputs": [
    {
     "data": {
      "text/plain": [
       "[32, 32, 32]"
      ]
     },
     "execution_count": 21,
     "metadata": {},
     "output_type": "execute_result"
    }
   ],
   "source": [
    "n_list = []\n",
    "for col in data.columns:\n",
    "    \n",
    "    n_list.append(len(data[col]))\n",
    "    \n",
    "n_list\n",
    "    "
   ]
  },
  {
   "cell_type": "code",
   "execution_count": 23,
   "metadata": {},
   "outputs": [
    {
     "data": {
      "text/plain": [
       "True"
      ]
     },
     "execution_count": 23,
     "metadata": {},
     "output_type": "execute_result"
    }
   ],
   "source": [
    "#orthogonality function check\n",
    "ANOVA1_all_orthogonal(contrast_and_orthogonal,n_list)"
   ]
  },
  {
   "cell_type": "markdown",
   "metadata": {},
   "source": [
    "Let's look at the mean differences"
   ]
  },
  {
   "cell_type": "code",
   "execution_count": 24,
   "metadata": {},
   "outputs": [
    {
     "data": {
      "text/plain": [
       "array([[ 0.5,  0.5, -1. ],\n",
       "       [ 1. , -1. ,  0. ]])"
      ]
     },
     "execution_count": 24,
     "metadata": {},
     "output_type": "execute_result"
    }
   ],
   "source": [
    "#starting with contrast and ortogonal C Matrix\n",
    "\n",
    "contrast_and_orthogonal"
   ]
  },
  {
   "cell_type": "code",
   "execution_count": 25,
   "metadata": {},
   "outputs": [
    {
     "name": "stdout",
     "output_type": "stream",
     "text": [
      "C is all contrasts and also orthogonal, Comparing between Scheffe(Th-2.8)  and Sidak.. \n",
      "Intervals of Scheffe is  narrower:\n",
      "Scheffe interval length for the first difference:  0.6748597925268087\n",
      "Sidak interval length for the first difference:  0.8671928980310426\n"
     ]
    },
    {
     "data": {
      "text/html": [
       "<div>\n",
       "<style scoped>\n",
       "    .dataframe tbody tr th:only-of-type {\n",
       "        vertical-align: middle;\n",
       "    }\n",
       "\n",
       "    .dataframe tbody tr th {\n",
       "        vertical-align: top;\n",
       "    }\n",
       "\n",
       "    .dataframe thead th {\n",
       "        text-align: right;\n",
       "    }\n",
       "</style>\n",
       "<table border=\"1\" class=\"dataframe\">\n",
       "  <thead>\n",
       "    <tr style=\"text-align: right;\">\n",
       "      <th></th>\n",
       "      <th>Difference in mean</th>\n",
       "      <th>lb</th>\n",
       "      <th>ub</th>\n",
       "    </tr>\n",
       "  </thead>\n",
       "  <tbody>\n",
       "    <tr>\n",
       "      <th>0</th>\n",
       "      <td>-0.511041</td>\n",
       "      <td>-0.848471</td>\n",
       "      <td>-0.173611</td>\n",
       "    </tr>\n",
       "    <tr>\n",
       "      <th>1</th>\n",
       "      <td>-0.176169</td>\n",
       "      <td>-0.625316</td>\n",
       "      <td>0.272978</td>\n",
       "    </tr>\n",
       "  </tbody>\n",
       "</table>\n",
       "</div>"
      ],
      "text/plain": [
       "   Difference in mean        lb        ub\n",
       "0           -0.511041 -0.848471 -0.173611\n",
       "1           -0.176169 -0.625316  0.272978"
      ]
     },
     "execution_count": 25,
     "metadata": {},
     "output_type": "execute_result"
    }
   ],
   "source": [
    "ANOVA1_C1_linear_combs(data, alpha = 0.1, C = contrast_and_orthogonal, method = 'best')"
   ]
  },
  {
   "cell_type": "code",
   "execution_count": 26,
   "metadata": {
    "scrolled": true
   },
   "outputs": [
    {
     "name": "stdout",
     "output_type": "stream",
     "text": [
      "C is all contrasts and also orthogonal, Comparing between Scheffe(Th-2.8)  and Sidak.. \n",
      "Intervals of Scheffe is  narrower:\n",
      "Scheffe interval length for the first difference:  0.6748597925268087\n",
      "Sidak interval length for the first difference:  0.8671928980310426\n"
     ]
    },
    {
     "data": {
      "text/html": [
       "<div>\n",
       "<style scoped>\n",
       "    .dataframe tbody tr th:only-of-type {\n",
       "        vertical-align: middle;\n",
       "    }\n",
       "\n",
       "    .dataframe tbody tr th {\n",
       "        vertical-align: top;\n",
       "    }\n",
       "\n",
       "    .dataframe thead th {\n",
       "        text-align: right;\n",
       "    }\n",
       "</style>\n",
       "<table border=\"1\" class=\"dataframe\">\n",
       "  <thead>\n",
       "    <tr style=\"text-align: right;\">\n",
       "      <th></th>\n",
       "      <th>Difference in mean</th>\n",
       "      <th>lb</th>\n",
       "      <th>ub</th>\n",
       "      <th>p-val</th>\n",
       "      <th>decision</th>\n",
       "    </tr>\n",
       "  </thead>\n",
       "  <tbody>\n",
       "    <tr>\n",
       "      <th>0</th>\n",
       "      <td>-0.5110412133897455</td>\n",
       "      <td>-0.848471</td>\n",
       "      <td>-0.173611</td>\n",
       "      <td>0.220563</td>\n",
       "      <td>accept</td>\n",
       "    </tr>\n",
       "    <tr>\n",
       "      <th>1</th>\n",
       "      <td>-0.17616872530919636</td>\n",
       "      <td>-0.625316</td>\n",
       "      <td>0.272978</td>\n",
       "      <td>0.201080</td>\n",
       "      <td>accept</td>\n",
       "    </tr>\n",
       "  </tbody>\n",
       "</table>\n",
       "</div>"
      ],
      "text/plain": [
       "     Difference in mean        lb        ub     p-val decision\n",
       "0   -0.5110412133897455 -0.848471 -0.173611  0.220563   accept\n",
       "1  -0.17616872530919636 -0.625316  0.272978  0.201080   accept"
      ]
     },
     "execution_count": 26,
     "metadata": {},
     "output_type": "execute_result"
    }
   ],
   "source": [
    "ANOVA1_test_linear_combs(data, alpha = 0.1, C = contrast_and_orthogonal, method = 'best')"
   ]
  },
  {
   "cell_type": "code",
   "execution_count": 33,
   "metadata": {},
   "outputs": [
    {
     "name": "stdout",
     "output_type": "stream",
     "text": [
      "C is all contrasts and also orthogonal, Comparing between Scheffe(Th-2.8)  and Sidak.. \n",
      "Returning Scheffe Test Result\n"
     ]
    },
    {
     "data": {
      "text/html": [
       "<div>\n",
       "<style scoped>\n",
       "    .dataframe tbody tr th:only-of-type {\n",
       "        vertical-align: middle;\n",
       "    }\n",
       "\n",
       "    .dataframe tbody tr th {\n",
       "        vertical-align: top;\n",
       "    }\n",
       "\n",
       "    .dataframe thead th {\n",
       "        text-align: right;\n",
       "    }\n",
       "</style>\n",
       "<table border=\"1\" class=\"dataframe\">\n",
       "  <thead>\n",
       "    <tr style=\"text-align: right;\">\n",
       "      <th></th>\n",
       "      <th>Difference in mean</th>\n",
       "      <th>lb</th>\n",
       "      <th>ub</th>\n",
       "    </tr>\n",
       "  </thead>\n",
       "  <tbody>\n",
       "    <tr>\n",
       "      <th>0</th>\n",
       "      <td>-0.511041</td>\n",
       "      <td>-0.848471</td>\n",
       "      <td>-0.173611</td>\n",
       "    </tr>\n",
       "    <tr>\n",
       "      <th>1</th>\n",
       "      <td>-0.176169</td>\n",
       "      <td>-0.625316</td>\n",
       "      <td>0.272978</td>\n",
       "    </tr>\n",
       "  </tbody>\n",
       "</table>\n",
       "</div>"
      ],
      "text/plain": [
       "   Difference in mean        lb        ub\n",
       "0           -0.511041 -0.848471 -0.173611\n",
       "1           -0.176169 -0.625316  0.272978"
      ]
     },
     "execution_count": 33,
     "metadata": {},
     "output_type": "execute_result"
    }
   ],
   "source": [
    "#trying without best\n",
    "ANOVA1_C1_linear_combs(data, alpha = 0.1, C = contrast_and_orthogonal, method = 'Scheffe')"
   ]
  },
  {
   "cell_type": "code",
   "execution_count": 34,
   "metadata": {},
   "outputs": [
    {
     "name": "stdout",
     "output_type": "stream",
     "text": [
      "C is all contrasts and also orthogonal, method should be Scheffe and Sidak. Please select appropriate method.\n"
     ]
    }
   ],
   "source": [
    "#testing the result with an inapropraite method\n",
    "ANOVA1_C1_linear_combs(data, alpha = 0.1, C = contrast_and_orthogonal, method = 'Bonferonni')"
   ]
  },
  {
   "cell_type": "markdown",
   "metadata": {},
   "source": [
    "p-val > alpha, thus we accept the both null hypothesis"
   ]
  },
  {
   "cell_type": "code",
   "execution_count": 29,
   "metadata": {},
   "outputs": [
    {
     "data": {
      "text/plain": [
       "array([[ 0, -1,  1],\n",
       "       [ 1, -1,  0],\n",
       "       [-1,  0,  1]])"
      ]
     },
     "execution_count": 29,
     "metadata": {},
     "output_type": "execute_result"
    }
   ],
   "source": [
    "#Lets Look at the pairwise differneces\n",
    "\n",
    "pairwise_contrast = np.array([0,-1,1,1,-1,0,-1,0,1]).reshape(3,3)\n",
    "pairwise_contrast"
   ]
  },
  {
   "cell_type": "code",
   "execution_count": 31,
   "metadata": {
    "scrolled": true
   },
   "outputs": [
    {
     "name": "stdout",
     "output_type": "stream",
     "text": [
      "C is pairwise differences but not orthogonal, Comparing between Tukey and Bonferonni.. \n",
      "Intervals of Tukey is  narrower:\n",
      "Tukey interval length for the first difference:  0.6455000000000001\n",
      "Bonferonni interval length for the first difference:  1.1708929574837543\n"
     ]
    },
    {
     "data": {
      "text/html": [
       "<div>\n",
       "<style scoped>\n",
       "    .dataframe tbody tr th:only-of-type {\n",
       "        vertical-align: middle;\n",
       "    }\n",
       "\n",
       "    .dataframe tbody tr th {\n",
       "        vertical-align: top;\n",
       "    }\n",
       "\n",
       "    .dataframe thead th {\n",
       "        text-align: right;\n",
       "    }\n",
       "</style>\n",
       "<table border=\"1\" class=\"dataframe\">\n",
       "  <thead>\n",
       "    <tr style=\"text-align: right;\">\n",
       "      <th></th>\n",
       "      <th>Difference in mean</th>\n",
       "      <th>lb</th>\n",
       "      <th>ub</th>\n",
       "    </tr>\n",
       "  </thead>\n",
       "  <tbody>\n",
       "    <tr>\n",
       "      <th>0</th>\n",
       "      <td>0.4230</td>\n",
       "      <td>0.1002</td>\n",
       "      <td>0.7457</td>\n",
       "    </tr>\n",
       "    <tr>\n",
       "      <th>1</th>\n",
       "      <td>0.1762</td>\n",
       "      <td>-0.1466</td>\n",
       "      <td>0.4989</td>\n",
       "    </tr>\n",
       "    <tr>\n",
       "      <th>2</th>\n",
       "      <td>0.5991</td>\n",
       "      <td>0.2764</td>\n",
       "      <td>0.9218</td>\n",
       "    </tr>\n",
       "  </tbody>\n",
       "</table>\n",
       "</div>"
      ],
      "text/plain": [
       "   Difference in mean      lb      ub\n",
       "0              0.4230  0.1002  0.7457\n",
       "1              0.1762 -0.1466  0.4989\n",
       "2              0.5991  0.2764  0.9218"
      ]
     },
     "execution_count": 31,
     "metadata": {},
     "output_type": "execute_result"
    }
   ],
   "source": [
    "ANOVA1_C1_linear_combs(data, alpha = 0.1, C = pairwise_contrast , method = 'best')"
   ]
  },
  {
   "cell_type": "code",
   "execution_count": 10,
   "metadata": {},
   "outputs": [
    {
     "name": "stdout",
     "output_type": "stream",
     "text": [
      "C is pairwise differences but not orthogonal, Comparing between Tukey and Bonferonni.. \n",
      "Intervals of Tukey is  narrower:\n",
      "Tukey interval length for the first difference:  0.6455000000000001\n",
      "Bonferonni interval length for the first difference:  1.1708929574837543\n"
     ]
    },
    {
     "data": {
      "text/html": [
       "<div>\n",
       "<style scoped>\n",
       "    .dataframe tbody tr th:only-of-type {\n",
       "        vertical-align: middle;\n",
       "    }\n",
       "\n",
       "    .dataframe tbody tr th {\n",
       "        vertical-align: top;\n",
       "    }\n",
       "\n",
       "    .dataframe thead th {\n",
       "        text-align: right;\n",
       "    }\n",
       "</style>\n",
       "<table border=\"1\" class=\"dataframe\">\n",
       "  <thead>\n",
       "    <tr style=\"text-align: right;\">\n",
       "      <th></th>\n",
       "      <th>Difference in mean</th>\n",
       "      <th>lb</th>\n",
       "      <th>ub</th>\n",
       "      <th>p-val</th>\n",
       "      <th>decision</th>\n",
       "    </tr>\n",
       "  </thead>\n",
       "  <tbody>\n",
       "    <tr>\n",
       "      <th>0</th>\n",
       "      <td>0.4230</td>\n",
       "      <td>0.1002</td>\n",
       "      <td>0.7457</td>\n",
       "      <td>0.0209</td>\n",
       "      <td>accept</td>\n",
       "    </tr>\n",
       "    <tr>\n",
       "      <th>1</th>\n",
       "      <td>0.1762</td>\n",
       "      <td>-0.1466</td>\n",
       "      <td>0.4989</td>\n",
       "      <td>0.4968</td>\n",
       "      <td>reject</td>\n",
       "    </tr>\n",
       "    <tr>\n",
       "      <th>2</th>\n",
       "      <td>0.5991</td>\n",
       "      <td>0.2764</td>\n",
       "      <td>0.9218</td>\n",
       "      <td>0.0010</td>\n",
       "      <td>accept</td>\n",
       "    </tr>\n",
       "  </tbody>\n",
       "</table>\n",
       "</div>"
      ],
      "text/plain": [
       "   Difference in mean      lb      ub   p-val decision\n",
       "0              0.4230  0.1002  0.7457  0.0209   accept\n",
       "1              0.1762 -0.1466  0.4989  0.4968   reject\n",
       "2              0.5991  0.2764  0.9218  0.0010   accept"
      ]
     },
     "execution_count": 10,
     "metadata": {},
     "output_type": "execute_result"
    }
   ],
   "source": [
    "ANOVA1_test_linear_combs(data, alpha = 0.1, C = pairwise_contrast , method = 'best')"
   ]
  },
  {
   "cell_type": "markdown",
   "metadata": {},
   "source": [
    "Reject only 2nd hypothesis resulted from 2nd. contrast [1,-1,0]"
   ]
  },
  {
   "cell_type": "code",
   "execution_count": 36,
   "metadata": {},
   "outputs": [
    {
     "data": {
      "text/plain": [
       "array([[ 0, -1,  2],\n",
       "       [ 1,  1, -1]])"
      ]
     },
     "execution_count": 36,
     "metadata": {},
     "output_type": "execute_result"
    }
   ],
   "source": [
    "#let's look at linear combinations\n",
    "\n",
    "linear_comb = np.array([0,-1,2,1,1,-1]).reshape(2,3)\n",
    "linear_comb"
   ]
  },
  {
   "cell_type": "code",
   "execution_count": 38,
   "metadata": {},
   "outputs": [
    {
     "name": "stdout",
     "output_type": "stream",
     "text": [
      "All linear combinations are not contrasts, Comparing between Scheffe(Th2.7) and Bonferonni.. \n",
      "Intervals of Scheffe is  narrower:\n",
      "Scheffe interval length for the first difference:  1.2475740844813572\n",
      "Bonferonni interval length for the first difference:  1.6130605688235278\n"
     ]
    },
    {
     "data": {
      "text/html": [
       "<div>\n",
       "<style scoped>\n",
       "    .dataframe tbody tr th:only-of-type {\n",
       "        vertical-align: middle;\n",
       "    }\n",
       "\n",
       "    .dataframe tbody tr th {\n",
       "        vertical-align: top;\n",
       "    }\n",
       "\n",
       "    .dataframe thead th {\n",
       "        text-align: right;\n",
       "    }\n",
       "</style>\n",
       "<table border=\"1\" class=\"dataframe\">\n",
       "  <thead>\n",
       "    <tr style=\"text-align: right;\">\n",
       "      <th></th>\n",
       "      <th>Difference in mean</th>\n",
       "      <th>lb</th>\n",
       "      <th>ub</th>\n",
       "    </tr>\n",
       "  </thead>\n",
       "  <tbody>\n",
       "    <tr>\n",
       "      <th>0</th>\n",
       "      <td>177.779127</td>\n",
       "      <td>177.155340</td>\n",
       "      <td>178.402914</td>\n",
       "    </tr>\n",
       "    <tr>\n",
       "      <th>1</th>\n",
       "      <td>176.334087</td>\n",
       "      <td>175.851758</td>\n",
       "      <td>176.816417</td>\n",
       "    </tr>\n",
       "  </tbody>\n",
       "</table>\n",
       "</div>"
      ],
      "text/plain": [
       "   Difference in mean          lb          ub\n",
       "0          177.779127  177.155340  178.402914\n",
       "1          176.334087  175.851758  176.816417"
      ]
     },
     "execution_count": 38,
     "metadata": {},
     "output_type": "execute_result"
    }
   ],
   "source": [
    "ANOVA1_C1_linear_combs(data, alpha = 0.1, C = linear_comb , method = 'best')"
   ]
  },
  {
   "cell_type": "code",
   "execution_count": 39,
   "metadata": {},
   "outputs": [
    {
     "name": "stdout",
     "output_type": "stream",
     "text": [
      "All linear combinations are not contrasts, Comparing between Scheffe(Th2.7) and Bonferonni.. \n",
      "Intervals of Scheffe is  narrower:\n",
      "Scheffe interval length for the first difference:  1.2475740844813572\n",
      "Bonferonni interval length for the first difference:  1.6130605688235562\n"
     ]
    },
    {
     "data": {
      "text/html": [
       "<div>\n",
       "<style scoped>\n",
       "    .dataframe tbody tr th:only-of-type {\n",
       "        vertical-align: middle;\n",
       "    }\n",
       "\n",
       "    .dataframe tbody tr th {\n",
       "        vertical-align: top;\n",
       "    }\n",
       "\n",
       "    .dataframe thead th {\n",
       "        text-align: right;\n",
       "    }\n",
       "</style>\n",
       "<table border=\"1\" class=\"dataframe\">\n",
       "  <thead>\n",
       "    <tr style=\"text-align: right;\">\n",
       "      <th></th>\n",
       "      <th>Difference in mean</th>\n",
       "      <th>lb</th>\n",
       "      <th>ub</th>\n",
       "      <th>p-val</th>\n",
       "      <th>decision</th>\n",
       "    </tr>\n",
       "  </thead>\n",
       "  <tbody>\n",
       "    <tr>\n",
       "      <th>0</th>\n",
       "      <td>177.77912676034646</td>\n",
       "      <td>177.155340</td>\n",
       "      <td>178.402914</td>\n",
       "      <td>0.221191</td>\n",
       "      <td>accept</td>\n",
       "    </tr>\n",
       "    <tr>\n",
       "      <th>1</th>\n",
       "      <td>176.33408748283182</td>\n",
       "      <td>175.851758</td>\n",
       "      <td>176.816417</td>\n",
       "      <td>0.229430</td>\n",
       "      <td>accept</td>\n",
       "    </tr>\n",
       "  </tbody>\n",
       "</table>\n",
       "</div>"
      ],
      "text/plain": [
       "   Difference in mean          lb          ub     p-val decision\n",
       "0  177.77912676034646  177.155340  178.402914  0.221191   accept\n",
       "1  176.33408748283182  175.851758  176.816417  0.229430   accept"
      ]
     },
     "execution_count": 39,
     "metadata": {},
     "output_type": "execute_result"
    }
   ],
   "source": [
    "ANOVA1_test_linear_combs(data, alpha = 0.1, C = linear_comb , method = 'best')"
   ]
  },
  {
   "cell_type": "code",
   "execution_count": 50,
   "metadata": {},
   "outputs": [
    {
     "data": {
      "text/plain": [
       "array([[-1. ,  0.5,  0.5],\n",
       "       [ 1. ,  1. , -2. ]])"
      ]
     },
     "execution_count": 50,
     "metadata": {},
     "output_type": "execute_result"
    }
   ],
   "source": [
    "#finally, check with a all contrasts but not orthogonal C\n",
    "\n",
    "conrasts_notOrthogonal = np.array([-1,1/2,1/2,1,1,-2]).reshape(2,3)\n",
    "conrasts_notOrthogonal"
   ]
  },
  {
   "cell_type": "code",
   "execution_count": 51,
   "metadata": {},
   "outputs": [
    {
     "name": "stdout",
     "output_type": "stream",
     "text": [
      "C is all contrast but not orthogonal, Comparing between Scheffe(Th-2.8) and Bonferonni.. \n",
      "Intervals of Scheffe is  narrower:\n",
      "Scheffe interval length for the first difference:  0.6748597925268087\n",
      "Bonferonni interval length for the first difference:  0.8722542290520421\n"
     ]
    },
    {
     "data": {
      "text/html": [
       "<div>\n",
       "<style scoped>\n",
       "    .dataframe tbody tr th:only-of-type {\n",
       "        vertical-align: middle;\n",
       "    }\n",
       "\n",
       "    .dataframe tbody tr th {\n",
       "        vertical-align: top;\n",
       "    }\n",
       "\n",
       "    .dataframe thead th {\n",
       "        text-align: right;\n",
       "    }\n",
       "</style>\n",
       "<table border=\"1\" class=\"dataframe\">\n",
       "  <thead>\n",
       "    <tr style=\"text-align: right;\">\n",
       "      <th></th>\n",
       "      <th>Difference in mean</th>\n",
       "      <th>lb</th>\n",
       "      <th>ub</th>\n",
       "    </tr>\n",
       "  </thead>\n",
       "  <tbody>\n",
       "    <tr>\n",
       "      <th>0</th>\n",
       "      <td>0.387647</td>\n",
       "      <td>0.050217</td>\n",
       "      <td>0.725077</td>\n",
       "    </tr>\n",
       "    <tr>\n",
       "      <th>1</th>\n",
       "      <td>-1.022082</td>\n",
       "      <td>-1.696942</td>\n",
       "      <td>-0.347223</td>\n",
       "    </tr>\n",
       "  </tbody>\n",
       "</table>\n",
       "</div>"
      ],
      "text/plain": [
       "   Difference in mean        lb        ub\n",
       "0            0.387647  0.050217  0.725077\n",
       "1           -1.022082 -1.696942 -0.347223"
      ]
     },
     "execution_count": 51,
     "metadata": {},
     "output_type": "execute_result"
    }
   ],
   "source": [
    "ANOVA1_C1_linear_combs(data, alpha = 0.1, C = conrasts_notOrthogonal , method = 'best')"
   ]
  },
  {
   "cell_type": "code",
   "execution_count": null,
   "metadata": {},
   "outputs": [],
   "source": []
  }
 ],
 "metadata": {
  "kernelspec": {
   "display_name": "Python 3",
   "language": "python",
   "name": "python3"
  },
  "language_info": {
   "codemirror_mode": {
    "name": "ipython",
    "version": 3
   },
   "file_extension": ".py",
   "mimetype": "text/x-python",
   "name": "python",
   "nbconvert_exporter": "python",
   "pygments_lexer": "ipython3",
   "version": "3.7.4"
  }
 },
 "nbformat": 4,
 "nbformat_minor": 4
}
